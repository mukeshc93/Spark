{
 "cells": [
  {
   "cell_type": "markdown",
   "metadata": {},
   "source": [
    "# Introduction"
   ]
  },
  {
   "cell_type": "markdown",
   "metadata": {},
   "source": [
    "Identifying similar customers or users having similar patterns is one of the challenges faced in today's world. Segmenting or grouping such customers can lead to developing new strategies which are specically created to target these users. One such algorithm which can do clustering is called as K-means algorithm. This algorithm uses distance metrics to find distances between observations and group the similar observations. This is however just a short overview, but there is a lot of math involved in this algorithm.<br>\n",
    "<br>\n",
    "The objective of this project would be to cluster the household holds having similar power usage pattern so that the power companies can develop efficient strategies for them. Also any anamoly or users misusing the resources can also be detected. Such a segmenting or clustering can thus help the business in a variety of ways and hence improve the efficiency of the business model.<br>\n",
    "<br>\n",
    "We would be using the housing dataset obtained from UCI web repository. This dataset has more than 2 million records and represents the power consumpton patterns collected at a minute interval."
   ]
  },
  {
   "cell_type": "markdown",
   "metadata": {},
   "source": [
    "# Motivation"
   ]
  },
  {
   "cell_type": "markdown",
   "metadata": {},
   "source": [
    "With this project we aim to demonstrate the power of machine learning on apache spark and how it can be used in developing a clustering algoritm which will cluster all the similar users. We aim to optimize the business model of the power companies by giving them the information about their users. We also aim to convert the numbers stored by the business into real insights and solid patterns about their users."
   ]
  },
  {
   "cell_type": "markdown",
   "metadata": {},
   "source": [
    "# Design"
   ]
  },
  {
   "cell_type": "markdown",
   "metadata": {},
   "source": [
    "The design of the report can be split into following steps,<br>\n",
    "<br>\n",
    "1. Importing libraries and creating spark session.<br>\n",
    "2. Loading the data and pre-processing it.<br>\n",
    "3. Explorartory analysis.<br>\n",
    "4. Model building, optimizing and evaluating.<br>\n",
    "5. Inferences.<br>"
   ]
  },
  {
   "cell_type": "markdown",
   "metadata": {},
   "source": [
    "## Step 1: Importing libraries and creating spark session"
   ]
  },
  {
   "cell_type": "markdown",
   "metadata": {},
   "source": [
    "In the below steps we will load the required libararies and create a spark session"
   ]
  },
  {
   "cell_type": "code",
   "execution_count": 1,
   "metadata": {
    "collapsed": true
   },
   "outputs": [],
   "source": [
    "#Loading libraries required in our code.\n",
    "from pyspark.sql import SQLContext\n",
    "sqlContext = SQLContext(sc)\n",
    "from pyspark.ml.clustering import KMeans\n",
    "from pyspark.ml.feature import VectorAssembler\n",
    "from pyspark.ml.feature import StandardScaler\n",
    "from pyspark.sql.types import DoubleType"
   ]
  },
  {
   "cell_type": "code",
   "execution_count": 2,
   "metadata": {
    "collapsed": true
   },
   "outputs": [],
   "source": [
    "#Creating the spark session\n",
    "if __name__ == \"__main__\":\n",
    "    spark = SparkSession \\\n",
    "        .builder \\\n",
    "        .appName(\"Kmeans\") \\\n",
    "        .getOrCreate()"
   ]
  },
  {
   "cell_type": "markdown",
   "metadata": {},
   "source": [
    "## Step 2: Loading the data and pre-processing it."
   ]
  },
  {
   "cell_type": "markdown",
   "metadata": {},
   "source": [
    "We will use spark sqlContext to load the data in pyspark. We have a colon delimited file and hence we will explicitly define the separator in the below code.<br>\n",
    "Spark sqlContext was not able to accurately infer the schema of the data, hence we manually defined the schema for each column in the dataset."
   ]
  },
  {
   "cell_type": "code",
   "execution_count": 3,
   "metadata": {},
   "outputs": [],
   "source": [
    "#Loading the dataset\n",
    "df = sqlContext.read.format('com.databricks.spark.csv').options(header='true',delimiter=';')\\\n",
    "    .load('/home/meaww/Downloads/household_power_consumption.txt')\n"
   ]
  },
  {
   "cell_type": "code",
   "execution_count": 4,
   "metadata": {},
   "outputs": [],
   "source": [
    "#Changing data types of the columns.\n",
    "df=df.withColumn(\"Global_active_power\", df.Global_active_power.cast(DoubleType()))\n",
    "df=df.withColumn(\"Global_reactive_power\", df.Global_reactive_power.cast(DoubleType()))\n",
    "df=df.withColumn(\"Voltage\", df.Voltage.cast(DoubleType()))\n",
    "df=df.withColumn(\"Global_intensity\", df.Global_intensity.cast(DoubleType()))\n",
    "df=df.withColumn(\"Sub_metering_1\", df.Sub_metering_1.cast(DoubleType()))\n",
    "df=df.withColumn(\"Sub_metering_2\", df.Sub_metering_2.cast(DoubleType()))\n",
    "df=df.withColumn(\"Sub_metering_3\", df.Sub_metering_3.cast(DoubleType()))"
   ]
  },
  {
   "cell_type": "code",
   "execution_count": 5,
   "metadata": {
    "collapsed": true
   },
   "outputs": [],
   "source": [
    "#Removing NA records and unwanted columns \n",
    "df=df.na.drop()\n",
    "df=df.drop('Date')\n",
    "df=df.drop('Time')"
   ]
  },
  {
   "cell_type": "markdown",
   "metadata": {},
   "source": [
    "## Step 3: Explorartory analysis"
   ]
  },
  {
   "cell_type": "markdown",
   "metadata": {},
   "source": [
    "We will do some descriptive analysis of the datain the below steps. These will include getting the number of records in the data, viewing first n records of the data, getting summary dtas for the data etc."
   ]
  },
  {
   "cell_type": "code",
   "execution_count": 6,
   "metadata": {},
   "outputs": [
    {
     "data": {
      "text/plain": [
       "2049280"
      ]
     },
     "execution_count": 6,
     "metadata": {},
     "output_type": "execute_result"
    }
   ],
   "source": [
    "#getting number of observations\n",
    "df.count()"
   ]
  },
  {
   "cell_type": "code",
   "execution_count": 7,
   "metadata": {},
   "outputs": [
    {
     "name": "stdout",
     "output_type": "stream",
     "text": [
      "+-------------------+---------------------+-------+----------------+--------------+--------------+--------------+\n",
      "|Global_active_power|Global_reactive_power|Voltage|Global_intensity|Sub_metering_1|Sub_metering_2|Sub_metering_3|\n",
      "+-------------------+---------------------+-------+----------------+--------------+--------------+--------------+\n",
      "|              4.216|                0.418| 234.84|            18.4|           0.0|           1.0|          17.0|\n",
      "|               5.36|                0.436| 233.63|            23.0|           0.0|           1.0|          16.0|\n",
      "|              5.374|                0.498| 233.29|            23.0|           0.0|           2.0|          17.0|\n",
      "|              5.388|                0.502| 233.74|            23.0|           0.0|           1.0|          17.0|\n",
      "|              3.666|                0.528| 235.68|            15.8|           0.0|           1.0|          17.0|\n",
      "+-------------------+---------------------+-------+----------------+--------------+--------------+--------------+\n",
      "only showing top 5 rows\n",
      "\n"
     ]
    }
   ],
   "source": [
    "#Viewing first 5 rows of the data\n",
    "df.show(5)"
   ]
  },
  {
   "cell_type": "code",
   "execution_count": 8,
   "metadata": {},
   "outputs": [
    {
     "data": {
      "text/html": [
       "<div>\n",
       "<table border=\"1\" class=\"dataframe\">\n",
       "  <thead>\n",
       "    <tr style=\"text-align: right;\">\n",
       "      <th></th>\n",
       "      <th>0</th>\n",
       "      <th>1</th>\n",
       "      <th>2</th>\n",
       "      <th>3</th>\n",
       "      <th>4</th>\n",
       "    </tr>\n",
       "  </thead>\n",
       "  <tbody>\n",
       "    <tr>\n",
       "      <th>summary</th>\n",
       "      <td>count</td>\n",
       "      <td>mean</td>\n",
       "      <td>stddev</td>\n",
       "      <td>min</td>\n",
       "      <td>max</td>\n",
       "    </tr>\n",
       "    <tr>\n",
       "      <th>Global_active_power</th>\n",
       "      <td>2049280</td>\n",
       "      <td>1.0916150365007122</td>\n",
       "      <td>1.0572941610939701</td>\n",
       "      <td>0.076</td>\n",
       "      <td>11.122</td>\n",
       "    </tr>\n",
       "    <tr>\n",
       "      <th>Global_reactive_power</th>\n",
       "      <td>2049280</td>\n",
       "      <td>0.12371447630388838</td>\n",
       "      <td>0.1127219795507155</td>\n",
       "      <td>0.0</td>\n",
       "      <td>1.39</td>\n",
       "    </tr>\n",
       "    <tr>\n",
       "      <th>Voltage</th>\n",
       "      <td>2049280</td>\n",
       "      <td>240.8398579745544</td>\n",
       "      <td>3.2399866790098937</td>\n",
       "      <td>223.2</td>\n",
       "      <td>254.15</td>\n",
       "    </tr>\n",
       "    <tr>\n",
       "      <th>Global_intensity</th>\n",
       "      <td>2049280</td>\n",
       "      <td>4.627759310588417</td>\n",
       "      <td>4.444396259786192</td>\n",
       "      <td>0.2</td>\n",
       "      <td>48.4</td>\n",
       "    </tr>\n",
       "    <tr>\n",
       "      <th>Sub_metering_1</th>\n",
       "      <td>2049280</td>\n",
       "      <td>1.1219233096502186</td>\n",
       "      <td>6.15303108970134</td>\n",
       "      <td>0.0</td>\n",
       "      <td>88.0</td>\n",
       "    </tr>\n",
       "    <tr>\n",
       "      <th>Sub_metering_2</th>\n",
       "      <td>2049280</td>\n",
       "      <td>1.2985199679887571</td>\n",
       "      <td>5.822026473177461</td>\n",
       "      <td>0.0</td>\n",
       "      <td>80.0</td>\n",
       "    </tr>\n",
       "    <tr>\n",
       "      <th>Sub_metering_3</th>\n",
       "      <td>2049280</td>\n",
       "      <td>6.45844735712055</td>\n",
       "      <td>8.437153908665614</td>\n",
       "      <td>0.0</td>\n",
       "      <td>31.0</td>\n",
       "    </tr>\n",
       "  </tbody>\n",
       "</table>\n",
       "</div>"
      ],
      "text/plain": [
       "                             0                    1                   2  \\\n",
       "summary                  count                 mean              stddev   \n",
       "Global_active_power    2049280   1.0916150365007122  1.0572941610939701   \n",
       "Global_reactive_power  2049280  0.12371447630388838  0.1127219795507155   \n",
       "Voltage                2049280    240.8398579745544  3.2399866790098937   \n",
       "Global_intensity       2049280    4.627759310588417   4.444396259786192   \n",
       "Sub_metering_1         2049280   1.1219233096502186    6.15303108970134   \n",
       "Sub_metering_2         2049280   1.2985199679887571   5.822026473177461   \n",
       "Sub_metering_3         2049280     6.45844735712055   8.437153908665614   \n",
       "\n",
       "                           3       4  \n",
       "summary                  min     max  \n",
       "Global_active_power    0.076  11.122  \n",
       "Global_reactive_power    0.0    1.39  \n",
       "Voltage                223.2  254.15  \n",
       "Global_intensity         0.2    48.4  \n",
       "Sub_metering_1           0.0    88.0  \n",
       "Sub_metering_2           0.0    80.0  \n",
       "Sub_metering_3           0.0    31.0  "
      ]
     },
     "execution_count": 8,
     "metadata": {},
     "output_type": "execute_result"
    }
   ],
   "source": [
    "#Getting summary of the dataset/\n",
    "df.describe().toPandas().transpose()"
   ]
  },
  {
   "cell_type": "code",
   "execution_count": 9,
   "metadata": {},
   "outputs": [
    {
     "name": "stdout",
     "output_type": "stream",
     "text": [
      "root\n",
      " |-- Global_active_power: double (nullable = true)\n",
      " |-- Global_reactive_power: double (nullable = true)\n",
      " |-- Voltage: double (nullable = true)\n",
      " |-- Global_intensity: double (nullable = true)\n",
      " |-- Sub_metering_1: double (nullable = true)\n",
      " |-- Sub_metering_2: double (nullable = true)\n",
      " |-- Sub_metering_3: double (nullable = true)\n",
      "\n"
     ]
    }
   ],
   "source": [
    "#Viewing the schema of the dataset.\n",
    "df.printSchema()"
   ]
  },
  {
   "cell_type": "markdown",
   "metadata": {},
   "source": [
    "## Step 4: Model building, optimizing and evaluating."
   ]
  },
  {
   "cell_type": "markdown",
   "metadata": {},
   "source": [
    "We would be building a kmeans model here, however there are some important points which should be considered before building th model. As mentioned in the introduction that kmeans uses distance meaures to find similar users. This assumes that all the columns have a same scale. If the scale is not same, it should be normalized so that they are on same scale and the distances measured can be compared across columns.<br>\n",
    "The model also takes input in dense vector format and hence proper conversions are also done. We will use a assempler to create the dense vector.<br>\n"
   ]
  },
  {
   "cell_type": "code",
   "execution_count": 10,
   "metadata": {},
   "outputs": [],
   "source": [
    "#Assempling and creating a dense vector of inputs.\n",
    "featuresUsed = df.columns\n",
    "assembler = VectorAssembler(inputCols=featuresUsed, outputCol=\"features_unscaled\")\n",
    "assembled = assembler.transform(df)\n"
   ]
  },
  {
   "cell_type": "code",
   "execution_count": 11,
   "metadata": {
    "collapsed": true
   },
   "outputs": [],
   "source": [
    "#Scaling and normalizing the data.\n",
    "scaler = StandardScaler(inputCol=\"features_unscaled\", outputCol=\"features\", withStd=True, withMean=True)\n",
    "scalerModel = scaler.fit(assembled)\n",
    "scaledData = scalerModel.transform(assembled)"
   ]
  },
  {
   "cell_type": "code",
   "execution_count": 12,
   "metadata": {},
   "outputs": [
    {
     "data": {
      "text/plain": [
       "DataFrame[features: vector]"
      ]
     },
     "execution_count": 12,
     "metadata": {},
     "output_type": "execute_result"
    }
   ],
   "source": [
    "scaledData = scaledData.select(\"features\")\n",
    "scaledData.persist()"
   ]
  },
  {
   "cell_type": "code",
   "execution_count": 13,
   "metadata": {},
   "outputs": [
    {
     "data": {
      "text/plain": [
       "[Row(features=DenseVector([2.9551, 2.6107, -1.8518, 3.0988, -0.1823, -0.0513, 1.2494])),\n",
       " Row(features=DenseVector([4.0371, 2.7704, -2.2253, 4.1338, -0.1823, -0.0513, 1.1309])),\n",
       " Row(features=DenseVector([4.0503, 3.3204, -2.3302, 4.1338, -0.1823, 0.1205, 1.2494])),\n",
       " Row(features=DenseVector([4.0636, 3.3559, -2.1913, 4.1338, -0.1823, -0.0513, 1.2494])),\n",
       " Row(features=DenseVector([2.4349, 3.5866, -1.5926, 2.5138, -0.1823, -0.0513, 1.2494]))]"
      ]
     },
     "execution_count": 13,
     "metadata": {},
     "output_type": "execute_result"
    }
   ],
   "source": [
    "#Viewing first 5 rows of scaled data\n",
    "scaledData.head(5)"
   ]
  },
  {
   "cell_type": "markdown",
   "metadata": {},
   "source": [
    "Kmeans algorithm requires the number of clusters to preknown or to be assumed and finding can be done by some calculations. The algorithm calculates distance of the points from the initially randomly selected centroids. Then we will group and form a cluster of records which are closest to each other.<br>\n",
    "Then based on the new groups we get a new adjusted centroid and distances are calculated again. This process continues for multiple iterations and the end result are the clusters having minimum within sum of squared errors.<br>\n",
    "However finding optimum number of clusters is also a challenge. To solve this, we will build the kmeans model on multiple number of cluster values and find the one which has the optimum value of within sum of squared errors."
   ]
  },
  {
   "cell_type": "code",
   "execution_count": 14,
   "metadata": {},
   "outputs": [
    {
     "name": "stdout",
     "output_type": "stream",
     "text": [
      "Within Set Sum of Squared Errors for 2 clusters is: 9877808.13851\n",
      "Within Set Sum of Squared Errors for 3 clusters is: 7359092.92477\n",
      "Within Set Sum of Squared Errors for 4 clusters is: 5667438.62157\n",
      "Within Set Sum of Squared Errors for 5 clusters is: 5023874.78373\n",
      "Within Set Sum of Squared Errors for 6 clusters is: 4358179.92543\n",
      "Within Set Sum of Squared Errors for 7 clusters is: 3865183.53805\n",
      "Within Set Sum of Squared Errors for 8 clusters is: 3649760.92402\n",
      "Within Set Sum of Squared Errors for 9 clusters is: 3568468.36212\n",
      "Within Set Sum of Squared Errors for 10 clusters is: 3529721.33258\n",
      "Within Set Sum of Squared Errors for 11 clusters is: 3110280.56329\n",
      "Within Set Sum of Squared Errors for 12 clusters is: 2841578.99354\n",
      "Within Set Sum of Squared Errors for 13 clusters is: 2715241.06545\n",
      "Within Set Sum of Squared Errors for 14 clusters is: 2694933.19454\n",
      "Within Set Sum of Squared Errors for 15 clusters is: 2658764.28829\n",
      "Within Set Sum of Squared Errors for 16 clusters is: 2433062.12566\n",
      "Within Set Sum of Squared Errors for 17 clusters is: 2428000.93015\n"
     ]
    }
   ],
   "source": [
    "#Building model for different cluster values\n",
    "for i in xrange(2,18):\n",
    "    kmeans = KMeans().setK(i).setSeed(1+i)\n",
    "    model = kmeans.fit(scaledData)\n",
    "    wssse = model.computeCost(scaledData)\n",
    "    print(\"Within Set Sum of Squared Errors for \" + str(i) + \" clusters is: \" + str(wssse))"
   ]
  },
  {
   "cell_type": "markdown",
   "metadata": {},
   "source": [
    "We can see from the above set of values that the wsse doesn't decrease much after 13 clusters. Hence we would choose our cluster count as 13. It can also be said that we are splitting our user base into 13 categories which can be inferred by looking at the records. It is also highly possible that these may not be the total number of categories and there might be more such categories. These can be identified by getting the understanding of the business domain and checking the wsse on more number of clusters. We will now build the final model on 13 clusters again and append the cluster value to each record."
   ]
  },
  {
   "cell_type": "code",
   "execution_count": 15,
   "metadata": {
    "collapsed": true
   },
   "outputs": [],
   "source": [
    "#Buildinfg final model and appending the predictions/categories\n",
    "kmeans = KMeans().setK(13).setSeed(14)\n",
    "model = kmeans.fit(scaledData)\n",
    "transformed = model.transform(scaledData)"
   ]
  },
  {
   "cell_type": "code",
   "execution_count": 16,
   "metadata": {},
   "outputs": [
    {
     "data": {
      "text/plain": [
       "[Row(features=DenseVector([2.9551, 2.6107, -1.8518, 3.0988, -0.1823, -0.0513, 1.2494]), prediction=7),\n",
       " Row(features=DenseVector([4.0371, 2.7704, -2.2253, 4.1338, -0.1823, -0.0513, 1.1309]), prediction=7),\n",
       " Row(features=DenseVector([4.0503, 3.3204, -2.3302, 4.1338, -0.1823, 0.1205, 1.2494]), prediction=7),\n",
       " Row(features=DenseVector([4.0636, 3.3559, -2.1913, 4.1338, -0.1823, -0.0513, 1.2494]), prediction=7),\n",
       " Row(features=DenseVector([2.4349, 3.5866, -1.5926, 2.5138, -0.1823, -0.0513, 1.2494]), prediction=5)]"
      ]
     },
     "execution_count": 16,
     "metadata": {},
     "output_type": "execute_result"
    }
   ],
   "source": [
    "#Viewing first 5 rows of the data\n",
    "transformed.head(5)"
   ]
  },
  {
   "cell_type": "markdown",
   "metadata": {},
   "source": [
    "## Step 5: Inferences"
   ]
  },
  {
   "cell_type": "markdown",
   "metadata": {},
   "source": [
    "We have now idnetified the optimum number of clusters and found out the categories of each user. In the below step we will look at the cluster centroids. Since we built 13 clusters we will have 13 cluster centers. Each cluster center will have dimensions equal to that of the input data. These values in a way represents the mean values of all features for each cluster. And any new observation having values close to these centers, will have the category assigned of the nearest cluster."
   ]
  },
  {
   "cell_type": "code",
   "execution_count": 17,
   "metadata": {},
   "outputs": [
    {
     "name": "stdout",
     "output_type": "stream",
     "text": [
      "Cluster Centers: \n",
      "[-0.52079573  1.1100625   0.28579226 -0.48186692 -0.17264899 -0.07286142\n",
      " -0.6523427 ]\n",
      "[-0.6614767  -0.48314765  1.38469467 -0.66955756 -0.17923476 -0.18529062\n",
      " -0.72472727]\n",
      "[ 4.93454693  0.98571463 -1.89174055  5.02327482  3.72143501  7.97252492\n",
      "  0.83800104]\n",
      "[ 2.1983827  -0.02917821 -0.84190595  2.20231466  5.7107185  -0.13598369\n",
      "  0.27553774]\n",
      "[ 2.33007943  0.56888218 -0.91045987  2.35493009 -0.13521022  5.65007765\n",
      "  0.47542549]\n",
      "[ 0.8214675   2.15979215 -0.34314917  0.83928564 -0.10378456 -0.02395986\n",
      "  1.11847144]\n",
      "[ 0.45608216 -0.34862445  0.4073854   0.41265118 -0.16520296 -0.16826356\n",
      "  1.4020373 ]\n",
      "[ 1.93828693  0.10043299 -0.97279     1.94157731 -0.09448841 -0.10766511\n",
      "  1.26863977]\n",
      "[ 3.36576756  1.73872278 -1.50040016  3.41434325  6.00549301 -0.02008365\n",
      "  0.99364119]\n",
      "[ 0.62832283 -0.16538037 -0.34701093  0.62167322 -0.13529261 -0.0822579\n",
      " -0.72941109]\n",
      "[ 0.43558148 -0.29243143 -1.06128706  0.42328072 -0.16309598 -0.16112524\n",
      "  1.3238972 ]\n",
      "[-0.72647213 -0.56193807  0.16411659 -0.72836206 -0.17940623 -0.18718808\n",
      " -0.71286533]\n",
      "[-0.66555302 -0.2666868  -1.34120734 -0.65268031 -0.17648226 -0.16651239\n",
      " -0.73700124]\n"
     ]
    }
   ],
   "source": [
    "centers = model.clusterCenters()\n",
    "print(\"Cluster Centers: \")\n",
    "for center in centers:\n",
    "    print(center)"
   ]
  },
  {
   "cell_type": "markdown",
   "metadata": {},
   "source": [
    "# Challenges faced"
   ]
  },
  {
   "cell_type": "markdown",
   "metadata": {},
   "source": [
    "Folowing were the challenges faced,<br>\n",
    "1. Installing spark and integrating it with jupyter.<br>\n",
    "2. Defining the problem statement and getting the data.<br>\n",
    "3. Since the data was large, the compute time and compute was very intensive<br>\n",
    "4. Getting the data in required format and model building<br>"
   ]
  },
  {
   "cell_type": "markdown",
   "metadata": {},
   "source": [
    "# Conclusion"
   ]
  },
  {
   "cell_type": "markdown",
   "metadata": {},
   "source": [
    "We were successfull in clustering the households based on the power consumption patterns. Also the business was made aware about insights which were not possible to get earlier. This unsupervised learning approach has thus helped in improving the efficiency of the business."
   ]
  }
 ],
 "metadata": {
  "kernelspec": {
   "display_name": "Python 2",
   "language": "python",
   "name": "python2"
  },
  "language_info": {
   "codemirror_mode": {
    "name": "ipython",
    "version": 2
   },
   "file_extension": ".py",
   "mimetype": "text/x-python",
   "name": "python",
   "nbconvert_exporter": "python",
   "pygments_lexer": "ipython2",
   "version": "2.7.12"
  }
 },
 "nbformat": 4,
 "nbformat_minor": 2
}
