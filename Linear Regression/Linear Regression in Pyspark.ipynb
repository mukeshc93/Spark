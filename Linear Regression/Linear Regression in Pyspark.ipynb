{
 "cells": [
  {
   "cell_type": "markdown",
   "metadata": {},
   "source": [
    "\n",
    "# Introduction:"
   ]
  },
  {
   "cell_type": "raw",
   "metadata": {},
   "source": [
    "\n",
    "In this report we will be building a machine learning model which will be capable of predicting the energy consumed by an household on a particular day. We will be utilizing the dataset obtained from UCI web repository. This dataset has more than 2 million records and is sampled at every one minute.\n",
    "This problem belongs under regression category, as we would be predicting a continuous variable. We would be building a simple linear regression model and will evaluate the model performance using appropriate methods.\n"
   ]
  },
  {
   "cell_type": "markdown",
   "metadata": {},
   "source": [
    "# Motivation:"
   ]
  },
  {
   "cell_type": "raw",
   "metadata": {},
   "source": [
    "\n",
    "Power is a type of resource which needs to be conserved and hence its utilization should be optimized. The necessity or power conservation at times goes for a toss due to negligence and we end up consuming more power. This negligence comes at huge costs which includes monetory as well as resource loss.\n",
    "\n",
    "So in order to optimize this situation we need to keep and check and alert the user when the power consumption can be high.\n",
    "\n",
    "So for this purpose we propose a novel machine learning algorithm which can be used to predict the power consumption levels for a particular day. In the below steps we will look into this problem in much detail and come up with some data backed solutions.\n"
   ]
  },
  {
   "cell_type": "markdown",
   "metadata": {},
   "source": [
    "# Design:\n"
   ]
  },
  {
   "cell_type": "raw",
   "metadata": {},
   "source": [
    "The design of our project can be divided into following steps,\n",
    "\n",
    "> Importing the libraries and creating a spark session."
   ]
  },
  {
   "cell_type": "raw",
   "metadata": {},
   "source": [
    "> Loading and cleaning the dataset."
   ]
  },
  {
   "cell_type": "raw",
   "metadata": {},
   "source": [
    "> Explorartory analysis and feature extraction"
   ]
  },
  {
   "cell_type": "raw",
   "metadata": {},
   "source": [
    "> Building the model and evaluating it."
   ]
  },
  {
   "cell_type": "raw",
   "metadata": {},
   "source": [
    "> Conclusion and making inferences."
   ]
  },
  {
   "cell_type": "markdown",
   "metadata": {},
   "source": [
    "\n",
    "\n",
    "## Step 1: Importing the libraries and creating a spark session."
   ]
  },
  {
   "cell_type": "markdown",
   "metadata": {},
   "source": [
    "\n",
    "In the below step we will load all the required libraries. The description of each library and function has been mentioned in the code chunk."
   ]
  },
  {
   "cell_type": "code",
   "execution_count": 1,
   "metadata": {
    "collapsed": true
   },
   "outputs": [],
   "source": [
    "\n",
    "from pyspark.sql import SQLContext#For loading the csv files as dataframes\n",
    "sqlContext = SQLContext(sc)\n",
    "from pyspark.ml.tuning import TrainValidationSplit#For train test split\n",
    "from pyspark.ml.regression import LinearRegression#model builder function\n",
    "from pyspark.sql import SparkSession#creating spark session\n",
    "from pyspark.ml.feature import VectorAssembler#Data structuring\n",
    "from pyspark.sql.types import DoubleType,DateType#For defining schema of dataset\n",
    "from pyspark.sql.functions import *\n",
    "from datetime import datetime#For manipulating the date column\n",
    "from pyspark.ml.evaluation import RegressionEvaluator#model evaluator\n",
    "\n"
   ]
  },
  {
   "cell_type": "raw",
   "metadata": {},
   "source": [
    "The below step will be used to create the spark session which be responsible for assembing all the hardware and application level configurations."
   ]
  },
  {
   "cell_type": "code",
   "execution_count": 2,
   "metadata": {
    "collapsed": true
   },
   "outputs": [],
   "source": [
    "if __name__ == \"__main__\":\n",
    "    spark = SparkSession \\\n",
    "        .builder \\\n",
    "        .appName(\"LinearRegression\") \\\n",
    "        .getOrCreate()"
   ]
  },
  {
   "cell_type": "markdown",
   "metadata": {},
   "source": [
    "## Step 2: Loading and cleaning the dataset."
   ]
  },
  {
   "cell_type": "raw",
   "metadata": {},
   "source": [
    "The data obtained from UCI is a text file delimited by \";\" and the changes for such a type are mentioned in the below code. We will be using sqlContext for loading the dataset as it provides an easy and fast way of loading and manipulating the dataframes in further operations."
   ]
  },
  {
   "cell_type": "code",
   "execution_count": 25,
   "metadata": {
    "collapsed": true
   },
   "outputs": [],
   "source": [
    "\n",
    "df = sqlContext.read.format('com.databricks.spark.csv').options(header='true',delimiter=';')\\\n",
    "    .load('/home/Downloads/household_power_consumption.txt')\n"
   ]
  },
  {
   "cell_type": "raw",
   "metadata": {},
   "source": [
    "The sqlContext was not able to infer the schemas of the data correctly hence we had explicitly defined schema of each column in the below steps. Also the date field was also inferred in datetime format which would allow us to extract more information from the field."
   ]
  },
  {
   "cell_type": "code",
   "execution_count": 26,
   "metadata": {},
   "outputs": [],
   "source": [
    "\n",
    "df=df.withColumn(\"Global_active_power\", df.Global_active_power.cast(DoubleType()))\n",
    "df=df.withColumn(\"Global_reactive_power\", df.Global_reactive_power.cast(DoubleType()))\n",
    "df=df.withColumn(\"Voltage\", df.Voltage.cast(DoubleType()))\n",
    "df=df.withColumn(\"Global_intensity\", df.Global_intensity.cast(DoubleType()))\n",
    "df=df.withColumn(\"Sub_metering_1\", df.Sub_metering_1.cast(DoubleType()))\n",
    "df=df.withColumn(\"Sub_metering_2\", df.Sub_metering_2.cast(DoubleType()))\n",
    "df=df.withColumn(\"Sub_metering_3\", df.Sub_metering_3.cast(DoubleType()))\n",
    "\n",
    "func =  udf (lambda x: datetime.strptime(x, '%d/%m/%Y'), DateType())\n",
    "df = df.withColumn('Date', func(col('Date')))\n"
   ]
  },
  {
   "cell_type": "markdown",
   "metadata": {},
   "source": [
    "## Step 3: Explorartory analysis and feature extraction"
   ]
  },
  {
   "cell_type": "raw",
   "metadata": {},
   "source": [
    "We will be looking at the structure of the dataset by viewing the top 5 rows of the data. We will also work on to remove NAs which can possibly effect our further calculations."
   ]
  },
  {
   "cell_type": "code",
   "execution_count": 5,
   "metadata": {},
   "outputs": [
    {
     "name": "stdout",
     "output_type": "stream",
     "text": [
      "+----------+--------+-------------------+---------------------+-------+----------------+--------------+--------------+--------------+\n",
      "|      Date|    Time|Global_active_power|Global_reactive_power|Voltage|Global_intensity|Sub_metering_1|Sub_metering_2|Sub_metering_3|\n",
      "+----------+--------+-------------------+---------------------+-------+----------------+--------------+--------------+--------------+\n",
      "|2006-12-16|17:24:00|              4.216|                0.418| 234.84|            18.4|           0.0|           1.0|          17.0|\n",
      "|2006-12-16|17:25:00|               5.36|                0.436| 233.63|            23.0|           0.0|           1.0|          16.0|\n",
      "|2006-12-16|17:26:00|              5.374|                0.498| 233.29|            23.0|           0.0|           2.0|          17.0|\n",
      "|2006-12-16|17:27:00|              5.388|                0.502| 233.74|            23.0|           0.0|           1.0|          17.0|\n",
      "|2006-12-16|17:28:00|              3.666|                0.528| 235.68|            15.8|           0.0|           1.0|          17.0|\n",
      "+----------+--------+-------------------+---------------------+-------+----------------+--------------+--------------+--------------+\n",
      "only showing top 5 rows\n",
      "\n"
     ]
    }
   ],
   "source": [
    "df.show(5)"
   ]
  },
  {
   "cell_type": "code",
   "execution_count": 6,
   "metadata": {
    "scrolled": true
   },
   "outputs": [
    {
     "data": {
      "text/plain": [
       "2075259"
      ]
     },
     "execution_count": 6,
     "metadata": {},
     "output_type": "execute_result"
    }
   ],
   "source": [
    "df.count()#total observations in our data"
   ]
  },
  {
   "cell_type": "code",
   "execution_count": 7,
   "metadata": {},
   "outputs": [
    {
     "name": "stdout",
     "output_type": "stream",
     "text": [
      "root\n",
      " |-- Date: date (nullable = true)\n",
      " |-- Time: string (nullable = true)\n",
      " |-- Global_active_power: double (nullable = true)\n",
      " |-- Global_reactive_power: double (nullable = true)\n",
      " |-- Voltage: double (nullable = true)\n",
      " |-- Global_intensity: double (nullable = true)\n",
      " |-- Sub_metering_1: double (nullable = true)\n",
      " |-- Sub_metering_2: double (nullable = true)\n",
      " |-- Sub_metering_3: double (nullable = true)\n",
      "\n"
     ]
    }
   ],
   "source": [
    "df.printSchema()#getting the schema of the data"
   ]
  },
  {
   "cell_type": "code",
   "execution_count": 8,
   "metadata": {},
   "outputs": [
    {
     "data": {
      "text/plain": [
       "2049280"
      ]
     },
     "execution_count": 8,
     "metadata": {},
     "output_type": "execute_result"
    }
   ],
   "source": [
    "df=df.na.drop()#removing NAs\n",
    "df.count()#Count after NA removal"
   ]
  },
  {
   "cell_type": "code",
   "execution_count": 27,
   "metadata": {},
   "outputs": [
    {
     "name": "stdout",
     "output_type": "stream",
     "text": [
      "+-------+-----------------+\n",
      "|summary| Global_intensity|\n",
      "+-------+-----------------+\n",
      "|  count|          2049280|\n",
      "|   mean|4.627759310588417|\n",
      "| stddev|4.444396259786192|\n",
      "|    min|              0.2|\n",
      "|    max|             48.4|\n",
      "+-------+-----------------+\n",
      "\n"
     ]
    }
   ],
   "source": [
    "df.select('Global_intensity').describe().show()"
   ]
  },
  {
   "cell_type": "markdown",
   "metadata": {},
   "source": [
    "\n",
    "In the below steps we will be extracting 4 features from the date parameter which would go into our model building process. We will extract the day of month, Day of the year, the month and year from the dataset. Also we will remove the date and time parameters which are now redundant as the information of these has been extracting and integrated in the form of new features."
   ]
  },
  {
   "cell_type": "code",
   "execution_count": 12,
   "metadata": {
    "collapsed": true
   },
   "outputs": [],
   "source": [
    "df=df.withColumn('Day', dayofmonth('Date'))#extracting day of month\n",
    "df=df.withColumn('Day_y', dayofyear('Date'))#extracting day of year\n",
    "df=df.withColumn('month', month('Date'))#extracting month\n",
    "df=df.withColumn('year', year('Date'))#extracting year"
   ]
  },
  {
   "cell_type": "code",
   "execution_count": 13,
   "metadata": {},
   "outputs": [
    {
     "name": "stdout",
     "output_type": "stream",
     "text": [
      "+-------------------+---------------------+-------+----------------+--------------+--------------+--------------+---+-----+-----+----+\n",
      "|Global_active_power|Global_reactive_power|Voltage|Global_intensity|Sub_metering_1|Sub_metering_2|Sub_metering_3|Day|Day_y|month|year|\n",
      "+-------------------+---------------------+-------+----------------+--------------+--------------+--------------+---+-----+-----+----+\n",
      "|              4.216|                0.418| 234.84|            18.4|           0.0|           1.0|          17.0| 16|  350|   12|2006|\n",
      "|               5.36|                0.436| 233.63|            23.0|           0.0|           1.0|          16.0| 16|  350|   12|2006|\n",
      "+-------------------+---------------------+-------+----------------+--------------+--------------+--------------+---+-----+-----+----+\n",
      "only showing top 2 rows\n",
      "\n"
     ]
    }
   ],
   "source": [
    "df=df.drop('Date')#dropping date column\n",
    "df=df.drop('Time')#dropping time column\n",
    "df.show(2)#Viewing the new records"
   ]
  },
  {
   "cell_type": "markdown",
   "metadata": {},
   "source": [
    "## Step 4: Building the model and evaluating it."
   ]
  },
  {
   "cell_type": "raw",
   "metadata": {},
   "source": [
    "One of the reasons why spark is fast is that it does parallel processing on the data. So for that, there has to be some structuring done on the data and hence allowing spark to operate on it. The linear regression model in spark needs the data to be in the form of features and labels, where features are the vectors of all the independent variables and label is the target (output) variable.In our case Global intensity is the label and all others are the features. For assembling the features we will use a assembler function which will combine all the input features into single feature vector."
   ]
  },
  {
   "cell_type": "code",
   "execution_count": 14,
   "metadata": {
    "collapsed": true
   },
   "outputs": [],
   "source": [
    "cols=['Global_active_power','Global_reactive_power','Voltage','Sub_metering_1',\n",
    "'Sub_metering_2','Sub_metering_3','Day_y','Day','month','year']\n",
    "\n",
    "assembler=VectorAssembler(inputCols=cols,outputCol=\"features\")#asembler for all i/p features\n",
    "df=assembler.transform(df)#transforming the data\n"
   ]
  },
  {
   "cell_type": "code",
   "execution_count": 15,
   "metadata": {
    "collapsed": true
   },
   "outputs": [],
   "source": [
    "df=df.select(\"Global_intensity\",\"features\")#combing o/p and i/p columns\n",
    "df=df.toDF(\"label\",\"features\")#renaming the columns"
   ]
  },
  {
   "cell_type": "code",
   "execution_count": 16,
   "metadata": {},
   "outputs": [
    {
     "name": "stdout",
     "output_type": "stream",
     "text": [
      "+-----+--------------------+\n",
      "|label|            features|\n",
      "+-----+--------------------+\n",
      "| 18.4|[4.216,0.418,234....|\n",
      "| 23.0|[5.36,0.436,233.6...|\n",
      "+-----+--------------------+\n",
      "only showing top 2 rows\n",
      "\n"
     ]
    }
   ],
   "source": [
    "df.show(2)#viewing the top 2 rows to understand the structure of data"
   ]
  },
  {
   "cell_type": "raw",
   "metadata": {},
   "source": [
    "In the below steps we will split the data into 75-25 percent for train-test respectively. We will use the train for building and training the model and test for predicitng. We will also look at some model metrics which will help us in evaluating the model."
   ]
  },
  {
   "cell_type": "code",
   "execution_count": 17,
   "metadata": {
    "collapsed": true
   },
   "outputs": [],
   "source": [
    "train, test = df.randomSplit([0.75, 0.25], seed=121)#Splitting into train and test\n",
    "# Define LinearRegression algorithm\n",
    "lr = LinearRegression()\n",
    "#Fit the model on the train data\n",
    "lrModel = lr.fit(train)"
   ]
  },
  {
   "cell_type": "code",
   "execution_count": 18,
   "metadata": {},
   "outputs": [
    {
     "name": "stdout",
     "output_type": "stream",
     "text": [
      "Coefficients: [4.17758642536,0.758770641078,-0.0190950101879,0.00289293352559,0.00332667441527,-0.00749759938443,-0.00307734296416,0.00291367372114,0.0934963236669,-0.00332910370784]\n",
      "Intercept: 11.2073177952\n"
     ]
    }
   ],
   "source": [
    "# Print the coefficients and intercept for linear regression\n",
    "print(\"Coefficients: %s\" % str(lrModel.coefficients))\n",
    "print(\"Intercept: %s\" % str(lrModel.intercept))\n"
   ]
  },
  {
   "cell_type": "raw",
   "metadata": {},
   "source": [
    "For a regression problem root mean square error can be good metric to evaluate the model. It defines the distance of the predicted values from the actual values. In the below output chunk it can be seen that rmse is quite low as compared to the original vales of the global intensity feature. Lower the values of rmse, lower is the error and hence the accuracy of the model is high.\n",
    "It can also be seen that the model is able to explain more than 99% of the variance in the data which indicates that the model is performing well on the train data. But to find tha actual accuracy of the model we should check its performance on unseen data. This part will be done in the next code chunk."
   ]
  },
  {
   "cell_type": "code",
   "execution_count": 19,
   "metadata": {},
   "outputs": [
    {
     "name": "stdout",
     "output_type": "stream",
     "text": [
      "numIterations: 1\n",
      "objectiveHistory: [0.0]\n",
      "+--------------------+\n",
      "|           residuals|\n",
      "+--------------------+\n",
      "| -0.2611831341588086|\n",
      "|-0.25158508365371474|\n",
      "|-0.25101223334807726|\n",
      "|-0.23535432499400882|\n",
      "|-0.23712342132207026|\n",
      "|  -0.225424919696308|\n",
      "|-0.22084211725121533|\n",
      "|-0.20703911637794653|\n",
      "|-0.21599445221342534|\n",
      "|-0.21536704019006975|\n",
      "|-0.22005494976403311|\n",
      "|-0.21255735037960583|\n",
      "|-0.21201178093282919|\n",
      "|-0.21961848784255728|\n",
      "| -0.2116025998702124|\n",
      "|-0.21721797909470836|\n",
      "|-0.21721797909470836|\n",
      "| -0.2166178479302136|\n",
      "|-0.20879291005974493|\n",
      "|-0.21607227848343696|\n",
      "+--------------------+\n",
      "only showing top 20 rows\n",
      "\n",
      "RMSE: 0.170039\n",
      "r2: 0.998535\n"
     ]
    }
   ],
   "source": [
    "# Summarize the model over the training set and print out some metrics\n",
    "trainingSummary = lrModel.summary\n",
    "print(\"numIterations: %d\" % trainingSummary.totalIterations)\n",
    "print(\"objectiveHistory: %s\" % str(trainingSummary.objectiveHistory))\n",
    "trainingSummary.residuals.show()\n",
    "print(\"RMSE: %f\" % trainingSummary.rootMeanSquaredError)\n",
    "print(\"r2: %f\" % trainingSummary.r2)"
   ]
  },
  {
   "cell_type": "raw",
   "metadata": {},
   "source": [
    "The rmse of the model on train and test almost remains same and hence it can be inferred that the model performs equally well on unseen data as well and hence the model is good. Now that we have a good model we will dive into the inferences of the given problem and what challenges were faced during the project."
   ]
  },
  {
   "cell_type": "code",
   "execution_count": 20,
   "metadata": {},
   "outputs": [
    {
     "name": "stdout",
     "output_type": "stream",
     "text": [
      "Model: Root Mean Squared Error = 0.170344677796\n"
     ]
    }
   ],
   "source": [
    "predictions=lrModel.transform(test)\n",
    "evaluator = RegressionEvaluator(metricName=\"rmse\")\n",
    "RMSE = evaluator.evaluate(predictions)\n",
    "print(\"Model: Root Mean Squared Error = \" + str(RMSE))"
   ]
  },
  {
   "cell_type": "markdown",
   "metadata": {},
   "source": [
    "# Challenges faced:"
   ]
  },
  {
   "cell_type": "raw",
   "metadata": {},
   "source": [
    "Following were some of the challenges faced during the project.\n",
    "1. Finding the problem and getting relevant data."
   ]
  },
  {
   "cell_type": "raw",
   "metadata": {},
   "source": [
    "2. The data was not clean and a lot of preprocessing was involved in initial stages."
   ]
  },
  {
   "cell_type": "raw",
   "metadata": {},
   "source": [
    "3. Feature extraction from dates and generating features."
   ]
  },
  {
   "cell_type": "raw",
   "metadata": {},
   "source": [
    "4. Model building and evaluating"
   ]
  },
  {
   "cell_type": "markdown",
   "metadata": {},
   "source": [
    "# Conclusion:"
   ]
  },
  {
   "cell_type": "raw",
   "metadata": {},
   "source": [
    "The model built in this report was successfull in predicting the power consumption levels of the households. This model can be utilized to build applications which can help in generating a trigger or alert to inform te user about the power consumption levels and prior steps can be taken to keep the consumption levels under check. This report and the model can thus help a large set of audience and hence protect the environment."
   ]
  }
 ],
 "metadata": {
  "kernelspec": {
   "display_name": "Python 2",
   "language": "python",
   "name": "python2"
  },
  "language_info": {
   "codemirror_mode": {
    "name": "ipython",
    "version": 2
   },
   "file_extension": ".py",
   "mimetype": "text/x-python",
   "name": "python",
   "nbconvert_exporter": "python",
   "pygments_lexer": "ipython2",
   "version": "2.7.12"
  }
 },
 "nbformat": 4,
 "nbformat_minor": 2
}
