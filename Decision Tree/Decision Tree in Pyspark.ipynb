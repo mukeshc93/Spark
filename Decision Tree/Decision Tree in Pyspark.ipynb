{
 "cells": [
  {
   "cell_type": "markdown",
   "metadata": {},
   "source": [
    "# Introduction:"
   ]
  },
  {
   "cell_type": "raw",
   "metadata": {},
   "source": [
    "\n",
    "The objective of this report would be to find whether 2 records in the registry belong to a single person or not. It would be a classification problem where the label would be whether it is a match or not. \n",
    "\n",
    "We have obtained the dataset from  epidemiological cancer registry of the German state of North Rhine-Westphalia (Epidemiologisches Krebsregister NRW, http://www.krebsregister.nrw.de). This dataset has more than 5 million records and each record has phonetic equality metrics for 2 persons which would be used to find duplicates.\n",
    "\n",
    "A decision tree classifier will be used for this project which will help us in predicting whether a record has a dupicate entry or not and can it be linked with any other record.\n",
    "\n"
   ]
  },
  {
   "cell_type": "markdown",
   "metadata": {},
   "source": [
    "# Motivation:"
   ]
  },
  {
   "cell_type": "raw",
   "metadata": {},
   "source": [
    "\n",
    "Data cleansing is a very important task where the data quality is of utmost importance. At times due to duplications we are not able to get exact figures regarding the analysis to be done.  This is one of the challenges faced by disease registries, medical research networks, national databases etc. Record linkage provides methods for minimizing synonym and homonym errors thereby improving data quality.\n",
    "\n",
    "We will utilize the power of apache spark and machine learning to find insights and help in solving the above problem. The solution to this problem can thereby improve data quality across various domains and hence help a lot of research projects and initiatives taken by institutions and governments.\n"
   ]
  },
  {
   "cell_type": "markdown",
   "metadata": {},
   "source": [
    "# Design:"
   ]
  },
  {
   "cell_type": "raw",
   "metadata": {},
   "source": [
    "The design of this project would be done in the following steps:\n",
    "\n",
    "1. Understanding and defining the problem statement.\n",
    "2. Loading the required packages in pyspark.\n",
    "3. Creating a spark session and loading the data.\n",
    "4. Doing some exploratory analysis.\n",
    "5. Data restructuring and converting it to a defined format for model building.\n",
    "6. Model building process.\n",
    "7. Predictions and Evaluation process.\n",
    "8. Conclusion and inferences."
   ]
  },
  {
   "cell_type": "markdown",
   "metadata": {},
   "source": [
    "## Step 1: Problem Statement"
   ]
  },
  {
   "cell_type": "raw",
   "metadata": {},
   "source": [
    "Predicting whether a record can be linked with any other entry in the data or not."
   ]
  },
  {
   "cell_type": "markdown",
   "metadata": {},
   "source": [
    "## Step 2: Loading the required packages in pyspark."
   ]
  },
  {
   "cell_type": "raw",
   "metadata": {},
   "source": [
    "In the below code chunk we will load all the packages required in our further analysis."
   ]
  },
  {
   "cell_type": "code",
   "execution_count": 1,
   "metadata": {
    "collapsed": true
   },
   "outputs": [],
   "source": [
    "\n",
    "from pyspark.sql import SQLContext#To load the csv files as dataframes\n",
    "sqlContext = SQLContext(sc)\n",
    "from pyspark.ml.tuning import TrainValidationSplit#For train test split\n",
    "from pyspark.ml.classification import DecisionTreeClassifier#model builder function\n",
    "from pyspark.sql import SparkSession#to create spark session\n",
    "from pyspark.ml import Pipeline#Pipeline for creating a flow of processes to be done on data\n",
    "from pyspark.ml.feature import  StringIndexer, VectorAssembler#Data converson functions\n",
    "from pyspark.ml.evaluation import BinaryClassificationEvaluator#Model evaluator function\n",
    "from pyspark.sql.types import StringType\n",
    "from pyspark.mllib.evaluation import MulticlassMetrics#For model evaluation\n",
    "\n"
   ]
  },
  {
   "cell_type": "markdown",
   "metadata": {},
   "source": [
    "## Step 3: Creating spark session and loading the data"
   ]
  },
  {
   "cell_type": "code",
   "execution_count": 2,
   "metadata": {
    "collapsed": true
   },
   "outputs": [],
   "source": [
    "#Creating Spark session\n",
    "if __name__ == \"__main__\":\n",
    "    spark = SparkSession \\\n",
    "        .builder \\\n",
    "        .appName(\"DecisionTree\") \\\n",
    "        .getOrCreate()"
   ]
  },
  {
   "cell_type": "code",
   "execution_count": 3,
   "metadata": {
    "collapsed": true
   },
   "outputs": [],
   "source": [
    "#We will be using spark sql context to load the csv file\n",
    "df = sqlContext.read.format('com.databricks.spark.csv')\\\n",
    "    .options(header='true', inferschema='true').load('/home/record_linkage.csv')\n",
    "\n",
    "#It was also found that our label feature was inferred as boolean hence we are explicitly \n",
    "#defining it as a character(string type) so that it can be integrated in the model\n",
    "df=df.withColumn(\"is_match\", df.is_match.cast(StringType()))\n"
   ]
  },
  {
   "cell_type": "markdown",
   "metadata": {},
   "source": [
    "## Step 4: Exploratory analysis"
   ]
  },
  {
   "cell_type": "raw",
   "metadata": {},
   "source": [
    "\n",
    "Exploratory analysis will help in getting a deeper understanding of the dataset and also in making any changes to the data so that the model building process is a smooth flow.\n"
   ]
  },
  {
   "cell_type": "code",
   "execution_count": 4,
   "metadata": {},
   "outputs": [
    {
     "data": {
      "text/plain": [
       "5749132"
      ]
     },
     "execution_count": 4,
     "metadata": {},
     "output_type": "execute_result"
    }
   ],
   "source": [
    "#Finding the number of rows in our dataset.\n",
    "df.count()"
   ]
  },
  {
   "cell_type": "code",
   "execution_count": 5,
   "metadata": {},
   "outputs": [
    {
     "data": {
      "text/plain": [
       "[Row(id_1=37291, id_2=53113, cmp_fname_c1=3, cmp_fname_c2=3, cmp_lname_c1=1.0, cmp_lname_c2=3, cmp_sex=1, cmp_bd=1, cmp_bm=1, cmp_by=1, cmp_plz=0, is_match=u'true'),\n",
       " Row(id_1=39086, id_2=47614, cmp_fname_c1=3, cmp_fname_c2=3, cmp_lname_c1=1.0, cmp_lname_c2=3, cmp_sex=1, cmp_bd=1, cmp_bm=1, cmp_by=1, cmp_plz=1, is_match=u'true'),\n",
       " Row(id_1=70031, id_2=70237, cmp_fname_c1=3, cmp_fname_c2=3, cmp_lname_c1=1.0, cmp_lname_c2=3, cmp_sex=1, cmp_bd=1, cmp_bm=1, cmp_by=1, cmp_plz=1, is_match=u'true'),\n",
       " Row(id_1=84795, id_2=97439, cmp_fname_c1=3, cmp_fname_c2=3, cmp_lname_c1=1.0, cmp_lname_c2=3, cmp_sex=1, cmp_bd=1, cmp_bm=1, cmp_by=1, cmp_plz=1, is_match=u'true'),\n",
       " Row(id_1=36950, id_2=42116, cmp_fname_c1=3, cmp_fname_c2=3, cmp_lname_c1=1.0, cmp_lname_c2=1, cmp_sex=1, cmp_bd=1, cmp_bm=1, cmp_by=1, cmp_plz=1, is_match=u'true')]"
      ]
     },
     "execution_count": 5,
     "metadata": {},
     "output_type": "execute_result"
    }
   ],
   "source": [
    "#Viewing the first 5 rows of our data.\n",
    "df.head(5)"
   ]
  },
  {
   "cell_type": "code",
   "execution_count": 6,
   "metadata": {
    "collapsed": true
   },
   "outputs": [],
   "source": [
    "#Removing the id columns as they are redundant in the model building process\n",
    "df=df.drop(\"id_1\")\n",
    "df=df.drop(\"id_2\")\n",
    "\n",
    "#getting column names of the data\n",
    "cols=df.columns\n"
   ]
  },
  {
   "cell_type": "markdown",
   "metadata": {},
   "source": [
    "## Step 5: Data restructuring and conversions"
   ]
  },
  {
   "cell_type": "markdown",
   "metadata": {},
   "source": [
    "In the below code chunk we will structure the data according to the requirements of the spark machine learning model of decision tree. Spark takes data into vectors of features and labels, hence the below conversions has to be done. \n"
   ]
  },
  {
   "cell_type": "code",
   "execution_count": 7,
   "metadata": {
    "collapsed": true
   },
   "outputs": [],
   "source": [
    "stages = [] # stages in our Pipeline\n",
    "# Convert label into label indices using the StringIndexer\n",
    "label_stringIdx = StringIndexer(inputCol = \"is_match\", outputCol = \"label\")\n",
    "stages += [label_stringIdx]\n",
    "\n",
    "ml_cols=cols[0:9]\n",
    "assembler = VectorAssembler(inputCols=ml_cols, outputCol=\"features\")\n",
    "stages += [assembler]"
   ]
  },
  {
   "cell_type": "raw",
   "metadata": {},
   "source": [
    "\n",
    "In the below code chunk we will build a pipeline which will do all the structuring and conversions on the entire data. "
   ]
  },
  {
   "cell_type": "code",
   "execution_count": 8,
   "metadata": {
    "collapsed": true
   },
   "outputs": [],
   "source": [
    "# Create a Pipeline.\n",
    "pipeline = Pipeline(stages=stages)\n",
    "# Run the feature transformations.\n",
    "#  - fit() computes feature statistics as needed.\n",
    "#  - transform() actually transforms the features.\n",
    "pipelineModel = pipeline.fit(df)\n",
    "df = pipelineModel.transform(df)\n",
    "\n",
    "# Keep relevant columns\n",
    "selectedcols = [\"label\", \"features\"] + cols\n",
    "df = df.select(selectedcols)"
   ]
  },
  {
   "cell_type": "raw",
   "metadata": {},
   "source": [
    "\n",
    "We can see in the below step that the data has been restructured and a vector has been created which can be used to build the model."
   ]
  },
  {
   "cell_type": "code",
   "execution_count": 9,
   "metadata": {},
   "outputs": [
    {
     "data": {
      "text/plain": [
       "Row(label=1.0, features=DenseVector([3.0, 3.0, 1.0, 3.0, 1.0, 1.0, 1.0, 1.0, 0.0]), cmp_fname_c1=3, cmp_fname_c2=3, cmp_lname_c1=1.0, cmp_lname_c2=3, cmp_sex=1, cmp_bd=1, cmp_bm=1, cmp_by=1, cmp_plz=0, is_match=u'true')"
      ]
     },
     "execution_count": 9,
     "metadata": {},
     "output_type": "execute_result"
    }
   ],
   "source": [
    "df.head()"
   ]
  },
  {
   "cell_type": "markdown",
   "metadata": {},
   "source": [
    "## Step 6: Model building"
   ]
  },
  {
   "cell_type": "raw",
   "metadata": {},
   "source": [
    "The model building step will comprise of splitting the data into train and test and building the model. We will use 75 percentage of data for training and 25 percentage for testing. For decision tree we will specify only one parameter for tuning called maxDepth. It will help in determining how deep the tree has to be grown. Deeper the trees, more is a chance of overfitting and hence the model may not perform well on the unseen data. We will therefore build a model with depth = 3.\n"
   ]
  },
  {
   "cell_type": "code",
   "execution_count": 10,
   "metadata": {
    "collapsed": true
   },
   "outputs": [],
   "source": [
    "train, test = df.randomSplit([0.75, 0.25], seed=141)#Splitting into train and test"
   ]
  },
  {
   "cell_type": "code",
   "execution_count": 11,
   "metadata": {
    "collapsed": true
   },
   "outputs": [],
   "source": [
    "# Create initial Decision Tree Model\n",
    "dt = DecisionTreeClassifier(labelCol=\"label\", featuresCol=\"features\", maxDepth=3)\n",
    "\n",
    "# Train model with Training Data\n",
    "dtModel = dt.fit(train)"
   ]
  },
  {
   "cell_type": "code",
   "execution_count": 12,
   "metadata": {},
   "outputs": [
    {
     "name": "stdout",
     "output_type": "stream",
     "text": [
      "numNodes =  15\n",
      "depth =  3\n"
     ]
    }
   ],
   "source": [
    "print \"numNodes = \", dtModel.numNodes\n",
    "print \"depth = \", dtModel.depth"
   ]
  },
  {
   "cell_type": "markdown",
   "metadata": {},
   "source": [
    "## Step 7: Predictions and model evauations"
   ]
  },
  {
   "cell_type": "raw",
   "metadata": {},
   "source": [
    "This step will involve predicting and testing the performance of model on unseen data. Since its a binary class problem we will have to use metrics such as accuracy, precision, recall. "
   ]
  },
  {
   "cell_type": "code",
   "execution_count": 13,
   "metadata": {},
   "outputs": [
    {
     "data": {
      "text/plain": [
       "0.9997059337157059"
      ]
     },
     "execution_count": 13,
     "metadata": {},
     "output_type": "execute_result"
    }
   ],
   "source": [
    "# Make predictions on test data using the Transformer.transform() method.\n",
    "predictions = dtModel.transform(test)\n",
    "# Evaluate model\n",
    "evaluator = BinaryClassificationEvaluator()\n",
    "evaluator.evaluate(predictions)"
   ]
  },
  {
   "cell_type": "raw",
   "metadata": {},
   "source": [
    "We can see that the accuracy which we are getting on unseen data is quite high. Also a point to note is that we are getting F1 score in the above step. \n",
    "Such a high F1-score states that the model performs equally well in predicting both the classes. And since it is a class imbalance problem where there are just 20900 observations belonging to class 1 and more than 5 million of class 0, the F1-score which we are getting is quite good.\n",
    "In the below step we will view all the other metrics and look into the confusion matrix as well."
   ]
  },
  {
   "cell_type": "code",
   "execution_count": 14,
   "metadata": {},
   "outputs": [
    {
     "name": "stdout",
     "output_type": "stream",
     "text": [
      "Precision of True  0.995205753096\n",
      "Precision of False 0.999801910034\n",
      "Recall of True     0.946069122674\n",
      "Recall of False    0.999983256966\n",
      "F-1 Score          0.999785917545\n",
      "Confusion Matrix\n"
     ]
    },
    {
     "name": "stderr",
     "output_type": "stream",
     "text": [
      "/home/meaww/spark-2.1.1-bin-hadoop2.7/python/pyspark/mllib/evaluation.py:262: UserWarning: Deprecated in 2.0.0. Use accuracy.\n",
      "  warnings.warn(\"Deprecated in 2.0.0. Use accuracy.\")\n"
     ]
    },
    {
     "name": "stdout",
     "output_type": "stream",
     "text": [
      "[[  1.43340800e+06   2.40000000e+01]\n",
      " [  2.84000000e+02   4.98200000e+03]]\n"
     ]
    }
   ],
   "source": [
    "def print_metrics(predictions_and_labels):\n",
    "    metrics = MulticlassMetrics(predictions_and_labels)\n",
    "    print 'Precision of True ', metrics.precision(1)\n",
    "    print 'Precision of False', metrics.precision(0)\n",
    "    print 'Recall of True    ', metrics.recall(1)\n",
    "    print 'Recall of False   ', metrics.recall(0)\n",
    "    print 'F-1 Score         ', metrics.fMeasure()\n",
    "    print 'Confusion Matrix\\n', metrics.confusionMatrix().toArray()\n",
    "    \n",
    "predictions_and_labels = predictions.select(\"prediction\", \"label\").rdd \\\n",
    ".map(lambda r: (float(r[0]), float(r[1])))\n",
    "\n",
    "print_metrics(predictions_and_labels)"
   ]
  },
  {
   "cell_type": "markdown",
   "metadata": {},
   "source": [
    "## Step 8: Conclusion"
   ]
  },
  {
   "cell_type": "raw",
   "metadata": {},
   "source": [
    "We were succesfully able to find dupicates and record linkage was achieved with a good accuracy. This model will help in researches getting quality data and better and more accurate inferences can be drawn from our report."
   ]
  }
 ],
 "metadata": {
  "kernelspec": {
   "display_name": "Python 2",
   "language": "python",
   "name": "python2"
  },
  "language_info": {
   "codemirror_mode": {
    "name": "ipython",
    "version": 2
   },
   "file_extension": ".py",
   "mimetype": "text/x-python",
   "name": "python",
   "nbconvert_exporter": "python",
   "pygments_lexer": "ipython2",
   "version": "2.7.12"
  }
 },
 "nbformat": 4,
 "nbformat_minor": 2
}
